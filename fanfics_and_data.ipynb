{
  "nbformat": 4,
  "nbformat_minor": 0,
  "metadata": {
    "colab": {
      "provenance": []
    },
    "kernelspec": {
      "name": "python3",
      "display_name": "Python 3"
    },
    "language_info": {
      "name": "python"
    }
  },
  "cells": [
    {
      "cell_type": "code",
      "execution_count": 143,
      "metadata": {
        "colab": {
          "base_uri": "https://localhost:8080/",
          "height": 548
        },
        "id": "4v-ZWE0Tfxnn",
        "outputId": "a5f3e51f-522f-46c9-b611-84bdc2afa449"
      },
      "outputs": [
        {
          "output_type": "stream",
          "name": "stdout",
          "text": [
            "<class 'pandas.core.frame.DataFrame'>\n",
            "Int64Index: 58 entries, 1 to 69\n",
            "Data columns (total 9 columns):\n",
            " #   Column    Non-Null Count  Dtype  \n",
            "---  ------    --------------  -----  \n",
            " 0   workid    58 non-null     float64\n",
            " 1   rating    58 non-null     object \n",
            " 2   warnings  58 non-null     object \n",
            " 3   genre     58 non-null     object \n",
            " 4   fandom    58 non-null     object \n",
            " 5   ship      58 non-null     object \n",
            " 6   mainchar  58 non-null     object \n",
            " 7   words     58 non-null     float64\n",
            " 8   kudos     58 non-null     float64\n",
            "dtypes: float64(3), object(6)\n",
            "memory usage: 4.5+ KB\n"
          ]
        },
        {
          "output_type": "execute_result",
          "data": {
            "text/plain": [
              "     workid                        rating  \\\n",
              "1   42687.0           General%20Audiences   \n",
              "2  869642.0   Teen%20And%20Up%20Audiences   \n",
              "3  584703.0                      Explicit   \n",
              "4  198626.0                        Mature   \n",
              "5  572188.0                      Explicit   \n",
              "\n",
              "                                        warnings   genre  \\\n",
              "1                No%20Archive%20Warnings%20Apply     Gen   \n",
              "2                No%20Archive%20Warnings%20Apply   M*s*M   \n",
              "3                No%20Archive%20Warnings%20Apply   M*s*M   \n",
              "4   Choose%20Not%20To%20Use%20Archive%20Warnings   F*s*M   \n",
              "5                No%20Archive%20Warnings%20Apply   M*s*M   \n",
              "\n",
              "                      fandom                                ship  \\\n",
              "1   The%20Dark%20Is%20Rising                 The%20Black%20Rider   \n",
              "2                       Glee           klaine%20-%20Relationship   \n",
              "3         Supernatural%20RPF   Jensen%20Ackles*s*Misha%20Collins   \n",
              "4               Death%20Note                       Mello*s*Halle   \n",
              "5                     Bandom           Panic!%20at%20the%20Disco   \n",
              "\n",
              "                             mainchar   words  kudos  \n",
              "1                      Will%20Stanton   666.0   23.0  \n",
              "2   Blaine%20Anderson*s*Kurt%20Hummel   668.0   97.0  \n",
              "3                     Misha%20Collins  2348.0  110.0  \n",
              "4            Mello%20(Mihael%20Keehl)  2169.0   42.0  \n",
              "5                 The%20Young%20Veins  1049.0   61.0  "
            ],
            "text/html": [
              "\n",
              "  <div id=\"df-7ce35b3e-0221-4888-93cf-5f0813fa42cf\">\n",
              "    <div class=\"colab-df-container\">\n",
              "      <div>\n",
              "<style scoped>\n",
              "    .dataframe tbody tr th:only-of-type {\n",
              "        vertical-align: middle;\n",
              "    }\n",
              "\n",
              "    .dataframe tbody tr th {\n",
              "        vertical-align: top;\n",
              "    }\n",
              "\n",
              "    .dataframe thead th {\n",
              "        text-align: right;\n",
              "    }\n",
              "</style>\n",
              "<table border=\"1\" class=\"dataframe\">\n",
              "  <thead>\n",
              "    <tr style=\"text-align: right;\">\n",
              "      <th></th>\n",
              "      <th>workid</th>\n",
              "      <th>rating</th>\n",
              "      <th>warnings</th>\n",
              "      <th>genre</th>\n",
              "      <th>fandom</th>\n",
              "      <th>ship</th>\n",
              "      <th>mainchar</th>\n",
              "      <th>words</th>\n",
              "      <th>kudos</th>\n",
              "    </tr>\n",
              "  </thead>\n",
              "  <tbody>\n",
              "    <tr>\n",
              "      <th>1</th>\n",
              "      <td>42687.0</td>\n",
              "      <td>General%20Audiences</td>\n",
              "      <td>No%20Archive%20Warnings%20Apply</td>\n",
              "      <td>Gen</td>\n",
              "      <td>The%20Dark%20Is%20Rising</td>\n",
              "      <td>The%20Black%20Rider</td>\n",
              "      <td>Will%20Stanton</td>\n",
              "      <td>666.0</td>\n",
              "      <td>23.0</td>\n",
              "    </tr>\n",
              "    <tr>\n",
              "      <th>2</th>\n",
              "      <td>869642.0</td>\n",
              "      <td>Teen%20And%20Up%20Audiences</td>\n",
              "      <td>No%20Archive%20Warnings%20Apply</td>\n",
              "      <td>M*s*M</td>\n",
              "      <td>Glee</td>\n",
              "      <td>klaine%20-%20Relationship</td>\n",
              "      <td>Blaine%20Anderson*s*Kurt%20Hummel</td>\n",
              "      <td>668.0</td>\n",
              "      <td>97.0</td>\n",
              "    </tr>\n",
              "    <tr>\n",
              "      <th>3</th>\n",
              "      <td>584703.0</td>\n",
              "      <td>Explicit</td>\n",
              "      <td>No%20Archive%20Warnings%20Apply</td>\n",
              "      <td>M*s*M</td>\n",
              "      <td>Supernatural%20RPF</td>\n",
              "      <td>Jensen%20Ackles*s*Misha%20Collins</td>\n",
              "      <td>Misha%20Collins</td>\n",
              "      <td>2348.0</td>\n",
              "      <td>110.0</td>\n",
              "    </tr>\n",
              "    <tr>\n",
              "      <th>4</th>\n",
              "      <td>198626.0</td>\n",
              "      <td>Mature</td>\n",
              "      <td>Choose%20Not%20To%20Use%20Archive%20Warnings</td>\n",
              "      <td>F*s*M</td>\n",
              "      <td>Death%20Note</td>\n",
              "      <td>Mello*s*Halle</td>\n",
              "      <td>Mello%20(Mihael%20Keehl)</td>\n",
              "      <td>2169.0</td>\n",
              "      <td>42.0</td>\n",
              "    </tr>\n",
              "    <tr>\n",
              "      <th>5</th>\n",
              "      <td>572188.0</td>\n",
              "      <td>Explicit</td>\n",
              "      <td>No%20Archive%20Warnings%20Apply</td>\n",
              "      <td>M*s*M</td>\n",
              "      <td>Bandom</td>\n",
              "      <td>Panic!%20at%20the%20Disco</td>\n",
              "      <td>The%20Young%20Veins</td>\n",
              "      <td>1049.0</td>\n",
              "      <td>61.0</td>\n",
              "    </tr>\n",
              "  </tbody>\n",
              "</table>\n",
              "</div>\n",
              "      <button class=\"colab-df-convert\" onclick=\"convertToInteractive('df-7ce35b3e-0221-4888-93cf-5f0813fa42cf')\"\n",
              "              title=\"Convert this dataframe to an interactive table.\"\n",
              "              style=\"display:none;\">\n",
              "        \n",
              "  <svg xmlns=\"http://www.w3.org/2000/svg\" height=\"24px\"viewBox=\"0 0 24 24\"\n",
              "       width=\"24px\">\n",
              "    <path d=\"M0 0h24v24H0V0z\" fill=\"none\"/>\n",
              "    <path d=\"M18.56 5.44l.94 2.06.94-2.06 2.06-.94-2.06-.94-.94-2.06-.94 2.06-2.06.94zm-11 1L8.5 8.5l.94-2.06 2.06-.94-2.06-.94L8.5 2.5l-.94 2.06-2.06.94zm10 10l.94 2.06.94-2.06 2.06-.94-2.06-.94-.94-2.06-.94 2.06-2.06.94z\"/><path d=\"M17.41 7.96l-1.37-1.37c-.4-.4-.92-.59-1.43-.59-.52 0-1.04.2-1.43.59L10.3 9.45l-7.72 7.72c-.78.78-.78 2.05 0 2.83L4 21.41c.39.39.9.59 1.41.59.51 0 1.02-.2 1.41-.59l7.78-7.78 2.81-2.81c.8-.78.8-2.07 0-2.86zM5.41 20L4 18.59l7.72-7.72 1.47 1.35L5.41 20z\"/>\n",
              "  </svg>\n",
              "      </button>\n",
              "      \n",
              "  <style>\n",
              "    .colab-df-container {\n",
              "      display:flex;\n",
              "      flex-wrap:wrap;\n",
              "      gap: 12px;\n",
              "    }\n",
              "\n",
              "    .colab-df-convert {\n",
              "      background-color: #E8F0FE;\n",
              "      border: none;\n",
              "      border-radius: 50%;\n",
              "      cursor: pointer;\n",
              "      display: none;\n",
              "      fill: #1967D2;\n",
              "      height: 32px;\n",
              "      padding: 0 0 0 0;\n",
              "      width: 32px;\n",
              "    }\n",
              "\n",
              "    .colab-df-convert:hover {\n",
              "      background-color: #E2EBFA;\n",
              "      box-shadow: 0px 1px 2px rgba(60, 64, 67, 0.3), 0px 1px 3px 1px rgba(60, 64, 67, 0.15);\n",
              "      fill: #174EA6;\n",
              "    }\n",
              "\n",
              "    [theme=dark] .colab-df-convert {\n",
              "      background-color: #3B4455;\n",
              "      fill: #D2E3FC;\n",
              "    }\n",
              "\n",
              "    [theme=dark] .colab-df-convert:hover {\n",
              "      background-color: #434B5C;\n",
              "      box-shadow: 0px 1px 3px 1px rgba(0, 0, 0, 0.15);\n",
              "      filter: drop-shadow(0px 1px 2px rgba(0, 0, 0, 0.3));\n",
              "      fill: #FFFFFF;\n",
              "    }\n",
              "  </style>\n",
              "\n",
              "      <script>\n",
              "        const buttonEl =\n",
              "          document.querySelector('#df-7ce35b3e-0221-4888-93cf-5f0813fa42cf button.colab-df-convert');\n",
              "        buttonEl.style.display =\n",
              "          google.colab.kernel.accessAllowed ? 'block' : 'none';\n",
              "\n",
              "        async function convertToInteractive(key) {\n",
              "          const element = document.querySelector('#df-7ce35b3e-0221-4888-93cf-5f0813fa42cf');\n",
              "          const dataTable =\n",
              "            await google.colab.kernel.invokeFunction('convertToInteractive',\n",
              "                                                     [key], {});\n",
              "          if (!dataTable) return;\n",
              "\n",
              "          const docLinkHtml = 'Like what you see? Visit the ' +\n",
              "            '<a target=\"_blank\" href=https://colab.research.google.com/notebooks/data_table.ipynb>data table notebook</a>'\n",
              "            + ' to learn more about interactive tables.';\n",
              "          element.innerHTML = '';\n",
              "          dataTable['output_type'] = 'display_data';\n",
              "          await google.colab.output.renderOutput(dataTable, element);\n",
              "          const docLink = document.createElement('div');\n",
              "          docLink.innerHTML = docLinkHtml;\n",
              "          element.appendChild(docLink);\n",
              "        }\n",
              "      </script>\n",
              "    </div>\n",
              "  </div>\n",
              "  "
            ]
          },
          "metadata": {},
          "execution_count": 143
        }
      ],
      "source": [
        "import pandas as pd\n",
        "import numpy as np\n",
        "import sklearn\n",
        "headers=['workid','rating','warnings','genre','fandom','ship','mainchar','words','kudos','mymistake','ship1']\n",
        "\n",
        "fanfics=pd.read_csv(\"/ffdata.csv\",names=headers,sep=';')\n",
        "fanfics=fanfics.drop(index=0)\n",
        "fanfics=fanfics.drop('mymistake',axis=1)\n",
        "fanfics=fanfics.drop('ship1',axis=1)\n",
        "fanfics=fanfics.dropna()\n",
        "fanfics.info()\n",
        "fanfics.head()\n",
        "\n"
      ]
    },
    {
      "cell_type": "markdown",
      "source": [
        "Lets check data about kudos first:"
      ],
      "metadata": {
        "id": "VCvw4BkThvFO"
      }
    },
    {
      "cell_type": "code",
      "source": [
        "print(fanfics['kudos'].mean())\n",
        "print(fanfics['kudos'].max())\n",
        "print(fanfics['kudos'].min())"
      ],
      "metadata": {
        "colab": {
          "base_uri": "https://localhost:8080/"
        },
        "id": "v-ubaHBqh952",
        "outputId": "5c587c15-704c-417c-ea8d-cb9150316caa"
      },
      "execution_count": 130,
      "outputs": [
        {
          "output_type": "stream",
          "name": "stdout",
          "text": [
            "70.05172413793103\n",
            "395.0\n",
            "1.0\n"
          ]
        }
      ]
    },
    {
      "cell_type": "markdown",
      "source": [
        "Okay, what can have impact on likes? Probably words, rating, warning, genre and fandom.\n"
      ],
      "metadata": {
        "id": "8_pd1XDTiPoR"
      }
    },
    {
      "cell_type": "code",
      "source": [
        "import matplotlib.pyplot as plt\n",
        "import seaborn as sns\n",
        "target=fanfics['kudos']\n",
        "words=fanfics['words']\n",
        "plt.scatter(words, target)\n",
        "\n"
      ],
      "metadata": {
        "colab": {
          "base_uri": "https://localhost:8080/",
          "height": 282
        },
        "id": "2R4dmKC6igG9",
        "outputId": "72bb8767-a9a2-4dc3-855f-f74f4ca8ffd1"
      },
      "execution_count": 131,
      "outputs": [
        {
          "output_type": "execute_result",
          "data": {
            "text/plain": [
              "<matplotlib.collections.PathCollection at 0x7fda72c59d90>"
            ]
          },
          "metadata": {},
          "execution_count": 131
        },
        {
          "output_type": "display_data",
          "data": {
            "text/plain": [
              "<Figure size 432x288 with 1 Axes>"
            ],
            "image/png": "[encoded data removed]"
          },
          "metadata": {
            "needs_background": "light"
          }
        }
      ]
    },
    {
      "cell_type": "markdown",
      "source": [
        "So what do we see.\n",
        "Words - kudos ranking >> too much words rarely mean more kudos, however most kudos are gain for works with ~3-4k words - not too short and not too long\n",
        "Then perfect lenght for us is 3-4k words\n"
      ],
      "metadata": {
        "id": "pm2getT8zPOX"
      }
    },
    {
      "cell_type": "code",
      "source": [
        "genres=fanfics['genre']\n",
        "genres.describe()\n",
        "popular=fanfics[fanfics['genre']==' M*s*M']\n",
        "popular.head()\n",
        "popular['kudos'].mean()\n",
        "genrelist=genres.unique().tolist()"
      ],
      "metadata": {
        "id": "HvD8zKO4z_HM"
      },
      "execution_count": 132,
      "outputs": []
    },
    {
      "cell_type": "markdown",
      "source": [
        "Most popular genre is M/M with freq=28. Also kudos's mean for M/M fanfics are slightly more than for average fanfiction\n",
        "Our perfect genre is M/M"
      ],
      "metadata": {
        "id": "Wxq8K7ar3_k4"
      }
    },
    {
      "cell_type": "code",
      "source": [
        "ratings=fanfics['rating']\n",
        "ratings.describe()\n",
        "r=ratings.unique().tolist()\n",
        "for i in r:\n",
        "  popular=fanfics[fanfics['rating']==i]\n",
        "  print(popular['kudos'].mean(),'genre is',i)\n",
        "ratingslist=ratings.unique().tolist()"
      ],
      "metadata": {
        "colab": {
          "base_uri": "https://localhost:8080/"
        },
        "id": "aj7rEIze5Ivc",
        "outputId": "a5d8f2e6-7aa3-4829-c434-514fdf1d3d78"
      },
      "execution_count": 133,
      "outputs": [
        {
          "output_type": "stream",
          "name": "stdout",
          "text": [
            "58.76190476190476 genre is  General%20Audiences\n",
            "44.2 genre is  Teen%20And%20Up%20Audiences\n",
            "100.4 genre is  Explicit\n",
            "27.666666666666668 genre is  Mature\n",
            "166.0 genre is  Not%20Rated\n"
          ]
        }
      ]
    },
    {
      "cell_type": "markdown",
      "source": [
        "Surprisingly but most popular rating is General with freq=23. Lets see its impact on kudos.\n",
        "\n",
        "But mean amount of kudos on this one is slightly less than average.\n",
        "Lets check other ratings\n",
        "\n",
        "Most kudos are on Explicit rating(18+)\n",
        "\n",
        "Lets count Not Rated as a data leak"
      ],
      "metadata": {
        "id": "_eS5U83e5W_7"
      }
    },
    {
      "cell_type": "code",
      "source": [
        "warnings=fanfics['warnings']\n",
        "r=warnings.unique().tolist()\n",
        "for i in r:\n",
        "  popular=fanfics[fanfics['warnings']==i]\n",
        "  print(popular['kudos'].mean(),'warning is',i)\n",
        "warningslist=warnings.unique().tolist()"
      ],
      "metadata": {
        "colab": {
          "base_uri": "https://localhost:8080/"
        },
        "id": "4igJuc5j8IWQ",
        "outputId": "a340e5a8-6efb-465a-d708-a0894db1216f"
      },
      "execution_count": 134,
      "outputs": [
        {
          "output_type": "stream",
          "name": "stdout",
          "text": [
            "64.92105263157895 warning is  No%20Archive%20Warnings%20Apply\n",
            "94.6 warning is  Choose%20Not%20To%20Use%20Archive%20Warnings\n",
            "2.0 warning is  Major%20Character%20Death\n",
            "43.0 warning is  Graphic%20Depictions%20Of%20Violence\n",
            "128.0 warning is  Rape*s*Non-Con\n"
          ]
        }
      ]
    },
    {
      "cell_type": "markdown",
      "source": [
        "Okay, thats quite interesting result\n",
        "More than average kudos we have with:\n",
        "\n",
        ">Choose not to use basic warnings - 94.6\n",
        "\n",
        ">Rape/Non-Con - 128\n",
        "\n",
        "But that does explain why Explicit rating got more kudos than the rest"
      ],
      "metadata": {
        "id": "vWcnlHUQ8cD8"
      }
    },
    {
      "cell_type": "code",
      "source": [
        "fandom=fanfics['fandom']\n",
        "r=fandom.unique().tolist()\n",
        "fandom.describe()"
      ],
      "metadata": {
        "colab": {
          "base_uri": "https://localhost:8080/"
        },
        "id": "3jFnCh9Q9rKU",
        "outputId": "3671db9a-ee1b-49b2-fc5f-f59e8d93cba7"
      },
      "execution_count": 135,
      "outputs": [
        {
          "output_type": "execute_result",
          "data": {
            "text/plain": [
              "count                58\n",
              "unique               45\n",
              "top        Supernatural\n",
              "freq                  4\n",
              "Name: fandom, dtype: object"
            ]
          },
          "metadata": {},
          "execution_count": 135
        }
      ]
    },
    {
      "cell_type": "markdown",
      "source": [
        "Sadly we cant do proper research on fandoms as there are too much unique values and not enough overall values\n",
        "\n",
        "So, what do we get? By our little research perfect fanfiction:\n",
        "\n",
        "\n",
        "1.   Words - 3-4k\n",
        "2.   Genre - M/M\n",
        "3.   Rating - Explicit\n",
        "4.   Archive warning - No basic warnings or Rape/Non-con\n",
        "\n",
        "Time to use machine!\n"
      ],
      "metadata": {
        "id": "936Nt1C889Df"
      }
    },
    {
      "cell_type": "code",
      "source": [
        "genrelist=[' Gen', ' M*s*M', ' F*s*M', ' Other', ' F*s*F', ' Multi']\n",
        "possgenre={genrelist[i]:i+1 for i in range(len(genrelist))}\n",
        "possrating={ratingslist[i]:i+1 for i in range(len(ratingslist))}\n",
        "posswarning={warningslist[i]:i+1 for i in range(len(warningslist))}\n",
        "fanfics=fanfics.replace(possgenre)\n",
        "fanfics=fanfics.replace(possrating)\n",
        "fanfics=fanfics.replace(posswarning)\n",
        "fanfics.head()\n"
      ],
      "metadata": {
        "colab": {
          "base_uri": "https://localhost:8080/",
          "height": 1000
        },
        "id": "VIjtEe6H9XXx",
        "outputId": "f30717b9-b7d2-4638-8c57-0c82b5d0d843"
      },
      "execution_count": 146,
      "outputs": [
        {
          "output_type": "execute_result",
          "data": {
            "text/plain": [
              "<seaborn.axisgrid.PairGrid at 0x7fda719eafa0>"
            ]
          },
          "metadata": {},
          "execution_count": 146
        },
        {
          "output_type": "display_data",
          "data": {
            "text/plain": [
              "<Figure size 1080x1080 with 42 Axes>"
            ],
            "image/png": "[encoded data removed]"
          },
          "metadata": {
            "needs_background": "light"
          }
        }
      ]
    },
    {
      "cell_type": "code",
      "source": [
        "fanfics.corr"
      ],
      "metadata": {
        "colab": {
          "base_uri": "https://localhost:8080/"
        },
        "id": "x_AWDVKkLQd_",
        "outputId": "26f19e91-1947-4584-e04b-a1aede16f308"
      },
      "execution_count": 137,
      "outputs": [
        {
          "output_type": "execute_result",
          "data": {
            "text/plain": [
              "<bound method DataFrame.corr of       workid  rating  warnings  genre  \\\n",
              "1    42687.0       0         0      0   \n",
              "2   869642.0       1         0      1   \n",
              "3   584703.0       2         0      1   \n",
              "4   198626.0       3         1      2   \n",
              "5   572188.0       2         0      1   \n",
              "7   350363.0       1         0      1   \n",
              "9   843714.0       1         0      1   \n",
              "10  526571.0       0         0      1   \n",
              "11  589423.0       1         0      0   \n",
              "12  912821.0       0         0      0   \n",
              "13  812348.0       0         0      0   \n",
              "14  467914.0       0         2      2   \n",
              "15  574265.0       1         0      2   \n",
              "16  148213.0       0         0      2   \n",
              "17   23938.0       0         0      2   \n",
              "18  520546.0       0         1      0   \n",
              "19  506890.0       0         3      1   \n",
              "20  293424.0       1         0      1   \n",
              "21  600761.0       0         0      2   \n",
              "22  146231.0       2         0      1   \n",
              "24  606480.0       0         0      4   \n",
              "25  505938.0       4         0      1   \n",
              "26  479802.0       1         1      1   \n",
              "27  825744.0       2         0      2   \n",
              "28  994342.0       0         0      2   \n",
              "29   90714.0       0         0      0   \n",
              "30  560043.0       1         1      2   \n",
              "31  869045.0       0         0      0   \n",
              "33  550526.0       1         0      1   \n",
              "34  414960.0       1         0      0   \n",
              "35  107740.0       2         0      1   \n",
              "37  504637.0       1         0      2   \n",
              "38  232072.0       0         0      2   \n",
              "40  199971.0       2         0      2   \n",
              "41   23746.0       1         0      1   \n",
              "42   74710.0       1         0      1   \n",
              "43  348375.0       0         2      0   \n",
              "44  618815.0       0         1      1   \n",
              "46  232643.0       4         1      1   \n",
              "47  848708.0       0         0      0   \n",
              "49  670006.0       4         1      1   \n",
              "50   35135.0       3         0      1   \n",
              "51  972685.0       1         1      2   \n",
              "52  833919.0       4         1      1   \n",
              "53  377150.0       3         1      1   \n",
              "54  354297.0       2         1      1   \n",
              "55  570777.0       3         0      1   \n",
              "56  886900.0       1         2      0   \n",
              "57  936549.0       4         0      0   \n",
              "58  673563.0       0         1      0   \n",
              "59  971115.0       0         1      2   \n",
              "60  796368.0       2         1      1   \n",
              "63  789464.0       2         4      2   \n",
              "64  806790.0       2         0      2   \n",
              "66  364566.0       4         1      1   \n",
              "67   25491.0       3         0      1   \n",
              "68  337486.0       0         0      2   \n",
              "69  787221.0       3         0      1   \n",
              "\n",
              "                                               fandom  \\\n",
              "1                            The%20Dark%20Is%20Rising   \n",
              "2                                                Glee   \n",
              "3                                  Supernatural%20RPF   \n",
              "4                                        Death%20Note   \n",
              "5                                              Bandom   \n",
              "7                                        Supernatural   \n",
              "9                                              Tatort   \n",
              "10                                  Big%20Time%20Rush   \n",
              "11                          Brave%20Police%20J-Decker   \n",
              "12                      Transformers:%20Rescue%20Bots   \n",
              "13                                               NCIS   \n",
              "14                                                  0   \n",
              "15   Hunger%20Games%20Series%20-%20All%20Media%20T...   \n",
              "16                                       Doctor%20Who   \n",
              "17                                       Ghost%20Hunt   \n",
              "18                                          Homestuck   \n",
              "19                                       Supernatural   \n",
              "20                                          Metallica   \n",
              "21                                                  0   \n",
              "22                                  Generation%20Kill   \n",
              "24                                                  1   \n",
              "25                         Captain%20America%20(2011)   \n",
              "26                                          Homestuck   \n",
              "27                                                  1   \n",
              "28                                           Gate%207   \n",
              "29                      How%20I%20Met%20Your%20Mother   \n",
              "30                                Prometheus%20(2012)   \n",
              "31                             Fire%20Emblem%20Series   \n",
              "33                                       Supernatural   \n",
              "34                                        due%20South   \n",
              "35                                          Oz%20(TV)   \n",
              "37                                    The%20Mentalist   \n",
              "38                                           Leverage   \n",
              "40                                          Torchwood   \n",
              "41                                         Smallville   \n",
              "42                                Heroes%20-%20Fandom   \n",
              "43                         Xena:%20Warrior%20Princess   \n",
              "44                           One%20Direction%20(Band)   \n",
              "46                                 Inception%20(2010)   \n",
              "47                                      The%20Borgias   \n",
              "49                                    Sherlock%20(TV)   \n",
              "50                                        due%20South   \n",
              "51                                                  1   \n",
              "52                            The%20Avengers%20(2012)   \n",
              "53                            Dark%20Shadows%20(1966)   \n",
              "54                                         Smallville   \n",
              "55                                 Teen%20Wolf%20(TV)   \n",
              "56                                       Supernatural   \n",
              "57                                                  4   \n",
              "58           The%20Lord%20of%20the%20Rings%20(Movies)   \n",
              "59                                       Doctor%20Who   \n",
              "60                                     The%20Sentinel   \n",
              "63                                                  1   \n",
              "64                                                  4   \n",
              "66                            The%20Avengers%20(2012)   \n",
              "67                             Hghlander%20-%20Fandom   \n",
              "68                                       Bones%20(TV)   \n",
              "69                    Star%20Wars%20Prequel%20Trilogy   \n",
              "\n",
              "                                                 ship  \\\n",
              "1                                 The%20Black%20Rider   \n",
              "2                           klaine%20-%20Relationship   \n",
              "3                   Jensen%20Ackles*s*Misha%20Collins   \n",
              "4                                       Mello*s*Halle   \n",
              "5                           Panic!%20at%20the%20Disco   \n",
              "7                Dean%20Winchester*s*Sam%20Winchester   \n",
              "9             Karl-Friedrich%20Boerne*s*Frank%20Thiel   \n",
              "10                  James%20Diamond*s*Carlos%20Garcia   \n",
              "11                                             Gunmax   \n",
              "12                               Kade%20Burns*s*Haley   \n",
              "13                     Ziva%20David*s*Timothy%20McGee   \n",
              "14                              Doctor%20Who%20(2005)   \n",
              "15               Katniss%20Everdeen*s*Peeta%20Mellark   \n",
              "16             Doctor%20Who%20*a*%20Related%20Fandoms   \n",
              "17                  Shibuya%20Kazuya*s*Taniyama%20Mai   \n",
              "18                                     Dirk%20Strider   \n",
              "19               Dean%20Winchester*s*Sam%20Winchester   \n",
              "20                   James%20Hetfield*s*Lars%20Ulrich   \n",
              "21                                   Adventure%20Time   \n",
              "22                       Brad%20Colbert*s*Nate%20Fick   \n",
              "24                  Twelfth%20Night%20-%20Shakespeare   \n",
              "25                                  Marvel%20(Movies)   \n",
              "26                    John%20Egbert*s*Karkat%20Vantas   \n",
              "27                      Once%20Upon%20a%20Time%20(TV)   \n",
              "28                      Toyotomi%20Hidetsugu*s*Mikoto   \n",
              "29                                Robin%20Scherbatsky   \n",
              "30                     David%208*s*Meredith%20Vickers   \n",
              "31                  Fire%20Emblem:%20Rekka%20no%20Ken   \n",
              "33                        Castiel*s*Dean%20Winchester   \n",
              "34                       Guy%20Laurent*s*Mike%20Chase   \n",
              "35                           Law%20*a*%20Order:%20SVU   \n",
              "37                   Patrick%20Jane*s*Teresa%20Lisbon   \n",
              "38                 Sophie%20Devereaux*s*Nathan%20Ford   \n",
              "40                                        Gwen*s*Rhys   \n",
              "41                        Clark%20Kent*s*Lex%20Luthor   \n",
              "42                 Matt%20Parkman*s*Mohinder%20Suresh   \n",
              "43                                               Xena   \n",
              "44                            Real%20Person%20Fiction   \n",
              "46                       Arthur*s*Eames%20(Inception)   \n",
              "47                          Giuliano%20della%20Rovere   \n",
              "49        Sherlock%20Holmes%20*a*%20Related%20Fandoms   \n",
              "50                     Ray%20Kowalski*s*Ray%20Vecchio   \n",
              "51                           One%20Direction%20(Band)   \n",
              "52                       Captain%20America%20(Movies)   \n",
              "53                  Jason%20McGuire*s*Willie%20Loomis   \n",
              "54                                    Clark*s*Whitney   \n",
              "55                  Derek%20Hale*s*Stiles%20Stilinski   \n",
              "56                                   Sam%20Winchester   \n",
              "57                                               Glee   \n",
              "58   The%20Lord%20of%20the%20Rings%20-%20All%20Med...   \n",
              "59                                      Doctor*s*Rose   \n",
              "60                                        due%20South   \n",
              "63                    Transformers%20Generation%20One   \n",
              "64                           One%20Direction%20(Band)   \n",
              "66   The%20Avengers%20(Marvel)%20-%20All%20Media%2...   \n",
              "67                                   Methos*s*MacLeod   \n",
              "68              Seeley%20Booth*s*Temperance%20Brennan   \n",
              "69                  Qui-Gon%20Jinn*s*Obi-Wan%20Kenobi   \n",
              "\n",
              "                                             mainchar    words  kudos  \n",
              "1                                      Will%20Stanton    666.0   23.0  \n",
              "2                   Blaine%20Anderson*s*Kurt%20Hummel    668.0   97.0  \n",
              "3                                     Misha%20Collins   2348.0  110.0  \n",
              "4                            Mello%20(Mihael%20Keehl)   2169.0   42.0  \n",
              "5                                 The%20Young%20Veins   1049.0   61.0  \n",
              "7                                    Sam%20Winchester      0.0    1.0  \n",
              "9                                       Frank%20Thiel    265.0   38.0  \n",
              "10                                    James%20Diamond   1388.0   44.0  \n",
              "11                                         Shadowmaru   6252.0   37.0  \n",
              "12                      Charlie%20Burns%20*a*%20Chase   1427.0  141.0  \n",
              "13                                      Abby%20Sciuto   1520.0   46.0  \n",
              "14                                      Doctor*s*Rose    449.0    1.0  \n",
              "15             Effie%20Trinket*s*Haymitch%20Abernathy   2003.0   69.0  \n",
              "16                   Eleventh%20Doctor*s*River%20Song    434.0   12.0  \n",
              "17                                     Taniyama%20Mai   4277.0   21.0  \n",
              "18                                    Karkat%20Vantas  17338.0  196.0  \n",
              "19                                  Dean%20Winchester  65613.0   43.0  \n",
              "20                                   James%20Hetfield   1527.0   89.0  \n",
              "21                            Finn*s*Flame%20Princess   1307.0   98.0  \n",
              "22                                     Brad%20Colbert   4952.0  172.0  \n",
              "24                         Olivia*s*Viola%20(Cesario)  11789.0  163.0  \n",
              "25              Marvel%20Avengers%20Movies%20Universe   1120.0  134.0  \n",
              "26                                      John%20Egbert   2318.0  178.0  \n",
              "27     Pinocchio%20%7C%20August%20Booth*s*Emma%20Swan   2929.0   54.0  \n",
              "28                               Toyotomi%20Hidetsugu    149.0    4.0  \n",
              "29                                   Barney%20Stinson    458.0   31.0  \n",
              "30                                          David%208    419.0   40.0  \n",
              "31                        Priscilla%20(Fire%20Emblem)   2039.0   17.0  \n",
              "33                                            Castiel    677.0   21.0  \n",
              "34                                      Guy%20Laurent   3942.0    3.0  \n",
              "35                Tobias%20Beecher*s*Elliot%20Stabler   4857.0   45.0  \n",
              "37                                     Patrick%20Jane   1094.0   16.0  \n",
              "38                                 Sophie%20Devereaux   3293.0   22.0  \n",
              "40                                      Gwen%20Cooper   2461.0   16.0  \n",
              "41                                              Angst   4994.0   53.0  \n",
              "42                                     Matt%20Parkman   1492.0   16.0  \n",
              "43                                 Gabrielle%20(Xena)    942.0    2.0  \n",
              "44                  Niall%20Horan*s*Louis%20Tomlinson    993.0   62.0  \n",
              "46                               Arthur%20(Inception)   1964.0  354.0  \n",
              "47            POV%20Minor%20Character%20-%20Character    861.0    3.0  \n",
              "49                  Sherlock%20Holmes*s*John%20Watson   4123.0  196.0  \n",
              "50                                     Ray%20Kowalski   1104.0    6.0  \n",
              "51                 Harry%20Styles*s*Louis%20Tomlinson   1363.0    2.0  \n",
              "52      James%20%22Bucky%22%20Barnes*s*Steve%20Rogers    813.0   28.0  \n",
              "53                                    Jason%20McGuire   3010.0   25.0  \n",
              "54                                              Angst   2859.0   20.0  \n",
              "55                                       Derek%20Hale   3692.0   50.0  \n",
              "56                                  Dean%20Winchester    182.0    3.0  \n",
              "57         Santana%20Lopez*s*Brittany%20S*d*%20Pierce  56321.0   39.0  \n",
              "58           TOLKIEN%20J*d*%20R*d*%20R*d*%20-%20Works   1000.0   26.0  \n",
              "59                                            10xrose    100.0    2.0  \n",
              "60   Jim%20Ellison*s*Blair%20Sandburg*s*Undisclose...   4507.0    3.0  \n",
              "63                            Sideswipe*s*Sunstreaker  13764.0  128.0  \n",
              "64                   Liam%20Payne*s*Louis%20Tomlinson  38189.0  395.0  \n",
              "66                      Steve%20Rogers*s*Tony%20Stark    587.0  245.0  \n",
              "67                                             Methos   2685.0    3.0  \n",
              "68                                     Seeley%20Booth   2118.0  277.0  \n",
              "69                                     Qui-Gon%20Jinn  13675.0   40.0  >"
            ]
          },
          "metadata": {},
          "execution_count": 137
        }
      ]
    },
    {
      "cell_type": "code",
      "source": [
        "from sklearn.model_selection import train_test_split\n",
        "from sklearn.linear_model import LinearRegression\n",
        "target=fanfics['kudos'].values\n",
        "labels=fanfics[['genre','words','rating','warnings']].values\n",
        "\n",
        "train_feature_matrix, test_feature_matrix, train_labels, test_labels = train_test_split(\n",
        "   labels, target, test_size=0.2, random_state=42)\n",
        "model=LinearRegression()\n",
        "model.fit(train_feature_matrix,train_labels)\n",
        "prediction=model.predict(test_feature_matrix)\n"
      ],
      "metadata": {
        "colab": {
          "base_uri": "https://localhost:8080/"
        },
        "id": "2DYX1rNAEd6b",
        "outputId": "b438754d-9df3-42ba-b3c4-77267232ef8c"
      },
      "execution_count": 175,
      "outputs": [
        {
          "output_type": "stream",
          "name": "stdout",
          "text": [
            "[ 1.23741737e+01  2.85731607e-03  2.36996547e+01 -2.01128789e+01]\n",
            "[ 29.35496793  63.52582383  77.79526026  53.44041801  99.41277567\n",
            "  58.47623494  22.55060509  28.76064619 121.47434413  81.62320161\n",
            " 283.17751231 109.38394656]\n",
            "[ 23.   1.  53.  12.  25. 128.  62.  31.  50.  69.  39.  42.]\n",
            "[16.77456914]\n"
          ]
        }
      ]
    },
    {
      "cell_type": "markdown",
      "source": [
        "We got it to work. Somehow...\n",
        "\n",
        "Im 100% that its like 50% wrong but:\n",
        "1. at least 25% of that is bad data\n",
        "2. and another 25% is my natural stupidity - this should be fixed soon!\n",
        "But anyway, lets see how much we can get with a perfect fanfiction!"
      ],
      "metadata": {
        "id": "AEKWCC2qRMbq"
      }
    },
    {
      "cell_type": "code",
      "source": [
        "print(model.predict([[2,3400,3,1]]))"
      ],
      "metadata": {
        "colab": {
          "base_uri": "https://localhost:8080/"
        },
        "id": "Jne366SLRlzW",
        "outputId": "7cca8843-9904-4118-8587-ad93459e708b"
      },
      "execution_count": 176,
      "outputs": [
        {
          "output_type": "stream",
          "name": "stdout",
          "text": [
            "[96.94035315]\n"
          ]
        }
      ]
    },
    {
      "cell_type": "markdown",
      "source": [
        "Aaaaand thats more than average!\n",
        "\n",
        "Thanks for your time checking this out, i really tried :D  \n",
        "\n",
        "As a bonus here is the code that i used to collect the data and put it into csv\n",
        "\n",
        "Yep i know that SQL will be better, but i know SQL way worse than i know python so... you get what you get"
      ],
      "metadata": {
        "id": "yRUL3EluRumq"
      }
    },
    {
      "cell_type": "markdown",
      "source": [
        "This is function that works with html data from a single link"
      ],
      "metadata": {
        "id": "J_3cpAHbSaMW"
      }
    },
    {
      "cell_type": "code",
      "source": [
        "def checker(text,link):\n",
        "    line=[link[link.rfind('/')+1:]]\n",
        "    #look for tags\n",
        "\n",
        "    if len(text)<7:\n",
        "        return line\n",
        "    for i in range(1,7):\n",
        "        currenttag=text[i]\n",
        "        currenttag=currenttag[:currenttag.find('/')]\n",
        "        line.append(currenttag)\n",
        "    if line[3] not in genres:\n",
        "        print('bad genre')\n",
        "        return line\n",
        "    print('all good, going for stats!')\n",
        "    #stats board\n",
        "    statsline=text[-1].find('dl class=\"stats\">')\n",
        "\n",
        "    stats=text[-1][statsline:statsline+500]\n",
        "    #check words amount\n",
        "    wordsline=stats.find('dd class=\"words\">')\n",
        "    words=stats[wordsline+17:]\n",
        "    words=words[:words.find('<')]\n",
        "    line.append(int(words))\n",
        "    #check kudos(likes) amount\n",
        "    kudosline=stats.find('dd class=\"kudos\">')\n",
        "    kudos=stats[kudosline+17:]\n",
        "    kudos=kudos[:kudos.find('<')]\n",
        "    line.append(int(kudos))\n",
        "\n",
        "    #fandom\n",
        "    line.append(text[5][:text[5].find('/')])\n",
        "    return line\n"
      ],
      "metadata": {
        "id": "tEw8Pu70SPIF"
      },
      "execution_count": null,
      "outputs": []
    },
    {
      "cell_type": "markdown",
      "source": [
        "And this is main code that generates link and puts them into file"
      ],
      "metadata": {
        "id": "mBRp70RaSfNk"
      }
    },
    {
      "cell_type": "code",
      "source": [
        "\n",
        "import requests\n",
        "import random\n",
        "\n",
        "genres=['Gen','M*s*M','F*s*M','F*s*F']\n",
        "\n",
        "header=['rating','genre','warnings','words','kudos','fandom']\n",
        "#workid,kudos,fandom,genre,raiting,archieve warnings(main),words\n",
        "with open('ffdata.csv','r+') as datafile:\n",
        "    print(*header,file=datafile,sep=', ')\n",
        "    for i in range(200):\n",
        "        link='https://archiveofourown.org/works/'+str(random.randint(1000,1000000))\n",
        "        r = requests.get(link)\n",
        "        if r.status_code==200:\n",
        "            text=r.text\n",
        "            rightline=text.find(\"work meta group\")\n",
        "            info=text[rightline:rightline+10000]\n",
        "            del text\n",
        "            with open('tempcode.txt','w+',encoding='UTF-8') as file:\n",
        "                print(info,file=file)\n",
        "            with open('tempcode.txt','r',encoding='UTF-8') as file:\n",
        "                text=file.read().split('href=\"/tags/')\n",
        "                result=checker(text,link)\n",
        "                if len(result)<7:\n",
        "                    print(';C') #not enough data\n",
        "                    pass\n",
        "                else:\n",
        "                    print(*result,file=datafile,sep=', ')\n",
        "            print(':D')\n",
        "        else:\n",
        "            pass\n",
        "            print(':C')"
      ],
      "metadata": {
        "id": "I1pcH6sBSjq9"
      },
      "execution_count": null,
      "outputs": []
    }
  ]
}